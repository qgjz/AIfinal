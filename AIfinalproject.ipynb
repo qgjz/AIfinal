{
 "cells": [
  {
   "cell_type": "code",
   "execution_count": 1,
   "id": "736ec9da",
   "metadata": {},
   "outputs": [],
   "source": [
    "import scipy.io\n",
    "import sklearn\n",
    "import numpy as np\n",
    "import sklearn.linear_model\n",
    "import sklearn.cross_decomposition\n",
    "import sklearn.ensemble\n",
    "import sklearn.gaussian_process\n",
    "import sklearn.gaussian_process.kernels\n",
    "import sklearn.tree\n",
    "import sklearn.neural_network\n",
    "import sklearn.svm\n",
    "import sklearn.ensemble\n",
    "import sklearn.metrics\n",
    "import time\n",
    "import matplotlib\n",
    "import matplotlib.pyplot as plt\n",
    "\n",
    "dataset = scipy.io.loadmat('toy_20_25000_11_096.mat')\n",
    "X_train = dataset['X']\n",
    "X_test = dataset['Xt']\n",
    "y_train = dataset['Y']\n",
    "y_test = dataset['Yt']\n",
    "labels = [\"Linear\",\"DecisionTree\",\"GaussianProcess\",\"MLP\"]\n",
    "rmse = []\n",
    "final = []\n",
    "maxx = []\n",
    "minn = []\n",
    "usetime = []\n",
    "linear = []\n",
    "decision = []\n",
    "gaus = []\n",
    "mlp = []"
   ]
  },
  {
   "cell_type": "code",
   "execution_count": 2,
   "id": "22b3d719",
   "metadata": {},
   "outputs": [],
   "source": [
    "total = 0\n",
    "for i in y_test:\n",
    "    total += i\n",
    "mean = total / len(y_test)\n",
    "sst = 0\n",
    "for i in y_test:\n",
    "    sst += (i - mean) * (i - mean)\n",
    "sst /= len(y_test)"
   ]
  },
  {
   "cell_type": "code",
   "execution_count": 3,
   "id": "597a50fe",
   "metadata": {},
   "outputs": [],
   "source": [
    "def avg(a):\n",
    "    sum = 0\n",
    "    for i in a:\n",
    "        sum += i\n",
    "    sum = sum * 1.0 / len(a)\n",
    "    return sum"
   ]
  },
  {
   "cell_type": "code",
   "execution_count": 4,
   "id": "4fb34876",
   "metadata": {},
   "outputs": [],
   "source": [
    "def findmin(a):\n",
    "    ans = a[0]\n",
    "    for i in a:\n",
    "        if i < ans:\n",
    "            ans = i\n",
    "    return ans"
   ]
  },
  {
   "cell_type": "code",
   "execution_count": 5,
   "id": "ce870439",
   "metadata": {},
   "outputs": [],
   "source": [
    "def findmax(a):\n",
    "    ans = a[0]\n",
    "    for i in a:\n",
    "        if i > ans:\n",
    "            ans = i\n",
    "    return ans"
   ]
  },
  {
   "cell_type": "code",
   "execution_count": 6,
   "id": "8a39b425",
   "metadata": {},
   "outputs": [],
   "source": [
    "for i in range(0,5):\n",
    "    start = time.time()\n",
    "    reg = sklearn.linear_model.LinearRegression().fit(X_train,y_train)\n",
    "    end = time.time()\n",
    "    linear.append(reg.score(X_test,y_test))\n",
    "    if i == 0:\n",
    "        use = end - start\n",
    "        usetime.append(use)\n",
    "        rmse.append(sklearn.metrics.mean_squared_error(y_test,reg.predict(X_test),squared = False))\n",
    "final.append(avg(linear))\n",
    "maxx.append(findmax(linear))\n",
    "minn.append(findmin(linear))"
   ]
  },
  {
   "cell_type": "code",
   "execution_count": 7,
   "id": "a9027898",
   "metadata": {},
   "outputs": [],
   "source": [
    "for i in range(0,5):\n",
    "    start = time.time()\n",
    "    reg = sklearn.tree.DecisionTreeRegressor(random_state = i,max_depth = 20,max_leaf_nodes = 500)\n",
    "    reg.fit(X_train,y_train)\n",
    "    end = time.time()\n",
    "    decision.append(reg.score(X_test,y_test))\n",
    "    if i == 0:\n",
    "        use = end - start\n",
    "        usetime.append(use)\n",
    "        rmse.append(sklearn.metrics.mean_squared_error(y_test,reg.predict(X_test),squared = False))\n",
    "final.append(avg(decision))\n",
    "maxx.append(findmax(decision))\n",
    "minn.append(findmin(decision))  "
   ]
  },
  {
   "cell_type": "code",
   "execution_count": 8,
   "id": "d256c3cc",
   "metadata": {},
   "outputs": [],
   "source": [
    "for i in range(0,5):\n",
    "    start = time.time()\n",
    "    kernel = 5.0 * sklearn.gaussian_process.kernels.RBF(1.0)\n",
    "    gpr = sklearn.gaussian_process.GaussianProcessRegressor(kernel = kernel,random_state = i).fit(X_train,y_train)\n",
    "    end = time.time()\n",
    "    gaus.append(gpr.score(X_test,y_test))\n",
    "    if i == 0:\n",
    "        use = end - start\n",
    "        usetime.append(use)\n",
    "        rmse.append(sklearn.metrics.mean_squared_error(y_test,gpr.predict(X_test),squared = False))\n",
    "final.append(avg(gaus))\n",
    "maxx.append(findmax(gaus))\n",
    "minn.append(findmin(gaus))  "
   ]
  },
  {
   "cell_type": "code",
   "execution_count": 9,
   "id": "4b1bce9e",
   "metadata": {},
   "outputs": [
    {
     "name": "stdout",
     "output_type": "stream",
     "text": [
      "0.9739813883799737\n",
      "0.9684203325808812\n",
      "0.969986524958365\n",
      "0.9722478452761886\n",
      "0.9718299579443346\n"
     ]
    }
   ],
   "source": [
    "for i in range(0,5):\n",
    "    start = time.time()\n",
    "    reg = sklearn.neural_network.MLPRegressor(random_state = i,max_iter = 500).fit(X_train,y_train.ravel())\n",
    "    end = time.time()\n",
    "    mlp.append(reg.score(X_test,y_test.ravel()))\n",
    "    print(reg.score(X_test,y_test.ravel()))\n",
    "    if i == 0:\n",
    "        use = end - start\n",
    "        usetime.append(use)\n",
    "        rmse.append(sklearn.metrics.mean_squared_error(y_test,reg.predict(X_test),squared = False))\n",
    "final.append(avg(mlp))\n",
    "maxx.append(findmax(mlp))\n",
    "minn.append(findmin(mlp))"
   ]
  },
  {
   "cell_type": "code",
   "execution_count": 12,
   "id": "7ef55ab2",
   "metadata": {},
   "outputs": [
    {
     "data": {
      "image/png": "[encoded data removed]",
      "text/plain": [
       "<Figure size 576x288 with 1 Axes>"
      ]
     },
     "metadata": {
      "needs_background": "light"
     },
     "output_type": "display_data"
    }
   ],
   "source": [
    "params = {'figure.figsize': '8, 4'}\n",
    "plt.rcParams.update(params)\n",
    "plt.xlabel(\"regression way\")\n",
    "plt.ylabel(\"RMSE\")\n",
    "plt.bar(x = labels,height = rmse,alpha = 0.8)\n",
    "for i, j in zip(labels, rmse):\n",
    "    plt.text(i, j ,\"%.6f\" % j, ha = 'center', va = 'bottom', fontsize = 10, rotation = 0)\n",
    "for i in range(0,4):\n",
    "    plt.vlines(i,minn[i],maxx[i], colors = \"black\")\n",
    "plt.show()"
   ]
  },
  {
   "cell_type": "code",
   "execution_count": 13,
   "id": "e2ba44e6",
   "metadata": {},
   "outputs": [
    {
     "data": {
      "image/png": "[encoded data removed]",
      "text/plain": [
       "<Figure size 576x288 with 1 Axes>"
      ]
     },
     "metadata": {
      "needs_background": "light"
     },
     "output_type": "display_data"
    }
   ],
   "source": [
    "params = {'figure.figsize': '8, 4'}\n",
    "plt.rcParams.update(params)\n",
    "plt.xlabel(\"regression way\")\n",
    "plt.ylabel(\"R^2\")\n",
    "plt.bar(x = labels,height = final,alpha = 0.8)\n",
    "for i, j in zip(labels, final):\n",
    "    plt.text(i, j ,\"%.6f\" % j, ha = 'center', va = 'bottom', fontsize = 10, rotation = 0)\n",
    "for i in range(0,4):\n",
    "    plt.vlines(i,minn[i],maxx[i], colors = \"black\")\n",
    "plt.show()"
   ]
  },
  {
   "cell_type": "code",
   "execution_count": 14,
   "id": "eadff4f7",
   "metadata": {},
   "outputs": [
    {
     "data": {
      "image/png": "[encoded data removed]",
      "text/plain": [
       "<Figure size 576x288 with 1 Axes>"
      ]
     },
     "metadata": {
      "needs_background": "light"
     },
     "output_type": "display_data"
    }
   ],
   "source": [
    "plt.figure(0)\n",
    "params = {'figure.figsize': '8, 4'}\n",
    "plt.rcParams.update(params)\n",
    "plt.xlabel(\"regression way\")\n",
    "plt.ylabel(\"time\")\n",
    "plt.bar(x = labels,height = usetime)\n",
    "for i, j in zip(labels, usetime):\n",
    "    plt.text(i, j ,\"%.6f\" % j, ha = 'center', va = 'bottom', fontsize = 10, rotation = 0)\n",
    "plt.show()"
   ]
  },
  {
   "cell_type": "code",
   "execution_count": null,
   "id": "6bd6dc29",
   "metadata": {},
   "outputs": [],
   "source": []
  }
 ],
 "metadata": {
  "kernelspec": {
   "display_name": "Python 3 (ipykernel)",
   "language": "python",
   "name": "python3"
  },
  "language_info": {
   "codemirror_mode": {
    "name": "ipython",
    "version": 3
   },
   "file_extension": ".py",
   "mimetype": "text/x-python",
   "name": "python",
   "nbconvert_exporter": "python",
   "pygments_lexer": "ipython3",
   "version": "3.9.7"
  }
 },
 "nbformat": 4,
 "nbformat_minor": 5
}
