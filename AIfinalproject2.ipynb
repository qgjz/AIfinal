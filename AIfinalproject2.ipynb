{
 "cells": [
  {
   "cell_type": "code",
   "execution_count": 1,
   "id": "7693d8b7",
   "metadata": {},
   "outputs": [],
   "source": [
    "import scipy.io\n",
    "import sklearn\n",
    "import numpy as np\n",
    "import sklearn.linear_model\n",
    "import sklearn.cross_decomposition\n",
    "import sklearn.ensemble\n",
    "import sklearn.gaussian_process\n",
    "import sklearn.gaussian_process.kernels\n",
    "import sklearn.tree\n",
    "import sklearn.neural_network\n",
    "import sklearn.svm\n",
    "import sklearn.ensemble\n",
    "import sklearn.metrics\n",
    "import time\n",
    "import matplotlib\n",
    "import matplotlib.pyplot as plt\n",
    "\n",
    "dataset = scipy.io.loadmat('toy_20_25000_11_096.mat')\n",
    "X_train = dataset['X']\n",
    "X_test = dataset['Xt']\n",
    "y_train = dataset['Y']\n",
    "y_test = dataset['Yt']\n",
    "decision5 = []\n",
    "decision10 = []\n",
    "decision15 = []\n",
    "decision20 = []\n",
    "final = []\n",
    "rmse = []"
   ]
  },
  {
   "cell_type": "code",
   "execution_count": 2,
   "id": "76998243",
   "metadata": {},
   "outputs": [],
   "source": [
    "def avg(a):\n",
    "    sum = 0\n",
    "    for i in a:\n",
    "        sum += i\n",
    "    sum = sum * 1.0 / len(a)\n",
    "    return sum"
   ]
  },
  {
   "cell_type": "code",
   "execution_count": 3,
   "id": "d7b5c003",
   "metadata": {},
   "outputs": [],
   "source": [
    "for i in range(0,5):\n",
    "    reg = sklearn.tree.DecisionTreeRegressor(random_state = i,max_depth = 5,max_leaf_nodes = 500)\n",
    "    reg.fit(X_train,y_train)\n",
    "    decision5.append(reg.score(X_test,y_test))\n",
    "    if i == 0:\n",
    "        rmse.append(sklearn.metrics.mean_squared_error(y_test,reg.predict(X_test),squared = False))\n",
    "final.append(avg(decision5))"
   ]
  },
  {
   "cell_type": "code",
   "execution_count": 4,
   "id": "560239d5",
   "metadata": {},
   "outputs": [],
   "source": [
    "for i in range(0,5):\n",
    "    reg = sklearn.tree.DecisionTreeRegressor(random_state = i,max_depth = 10,max_leaf_nodes = 500)\n",
    "    reg.fit(X_train,y_train)\n",
    "    decision10.append(reg.score(X_test,y_test))\n",
    "    if i == 0:\n",
    "        rmse.append(sklearn.metrics.mean_squared_error(y_test,reg.predict(X_test),squared = False))\n",
    "final.append(avg(decision10))"
   ]
  },
  {
   "cell_type": "code",
   "execution_count": 5,
   "id": "4b9c2759",
   "metadata": {},
   "outputs": [],
   "source": [
    "for i in range(0,5):\n",
    "    reg = sklearn.tree.DecisionTreeRegressor(random_state = i,max_depth = 15,max_leaf_nodes = 500)\n",
    "    reg.fit(X_train,y_train)\n",
    "    decision15.append(reg.score(X_test,y_test))\n",
    "    if i == 0:\n",
    "        rmse.append(sklearn.metrics.mean_squared_error(y_test,reg.predict(X_test),squared = False))\n",
    "final.append(avg(decision15))"
   ]
  },
  {
   "cell_type": "code",
   "execution_count": 6,
   "id": "02a006ff",
   "metadata": {},
   "outputs": [],
   "source": [
    "for i in range(0,5):\n",
    "    reg = sklearn.tree.DecisionTreeRegressor(random_state = i,max_depth = 20,max_leaf_nodes = 500)\n",
    "    reg.fit(X_train,y_train)\n",
    "    decision20.append(reg.score(X_test,y_test))\n",
    "    if i == 0:\n",
    "        rmse.append(sklearn.metrics.mean_squared_error(y_test,reg.predict(X_test),squared = False))\n",
    "final.append(avg(decision20))"
   ]
  },
  {
   "cell_type": "code",
   "execution_count": 7,
   "id": "6f5e889c",
   "metadata": {},
   "outputs": [],
   "source": [
    "kernel = 1.0 * sklearn.gaussian_process.kernels.RBF(1.0)\n",
    "gpr = sklearn.gaussian_process.GaussianProcessRegressor(kernel = kernel,random_state = i).fit(X_train,y_train)\n",
    "final.append(gpr.score(X_test,y_test))\n",
    "rmse.append(sklearn.metrics.mean_squared_error(y_test,gpr.predict(X_test),squared = False))"
   ]
  },
  {
   "cell_type": "code",
   "execution_count": 8,
   "id": "379a04e5",
   "metadata": {},
   "outputs": [],
   "source": [
    "kernel = sklearn.gaussian_process.kernels.DotProduct() + sklearn.gaussian_process.kernels.WhiteKernel()\n",
    "gpr = sklearn.gaussian_process.GaussianProcessRegressor(kernel = kernel,random_state = i).fit(X_train,y_train)\n",
    "final.append(gpr.score(X_test,y_test))\n",
    "rmse.append(sklearn.metrics.mean_squared_error(y_test,gpr.predict(X_test),squared = False))"
   ]
  },
  {
   "cell_type": "code",
   "execution_count": 9,
   "id": "b96a66cc",
   "metadata": {},
   "outputs": [
    {
     "name": "stdout",
     "output_type": "stream",
     "text": [
      "[0.917204176413423, 0.7240935159902687, 0.6963966455828318, 0.6963966455828318, 1.4431267197525215, 0.9104814970083315]\n",
      "[0.628778739372932, 0.769210865923643, 0.784695141443596, 0.784695141443596, 0.08101223449347539, 0.6342005544694996]\n"
     ]
    }
   ],
   "source": [
    "print(rmse)\n",
    "print(final)"
   ]
  },
  {
   "cell_type": "code",
   "execution_count": null,
   "id": "d0ea9e1d",
   "metadata": {},
   "outputs": [],
   "source": []
  }
 ],
 "metadata": {
  "kernelspec": {
   "display_name": "Python 3 (ipykernel)",
   "language": "python",
   "name": "python3"
  },
  "language_info": {
   "codemirror_mode": {
    "name": "ipython",
    "version": 3
   },
   "file_extension": ".py",
   "mimetype": "text/x-python",
   "name": "python",
   "nbconvert_exporter": "python",
   "pygments_lexer": "ipython3",
   "version": "3.9.7"
  }
 },
 "nbformat": 4,
 "nbformat_minor": 5
}
